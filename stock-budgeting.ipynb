{
 "cells": [
  {
   "cell_type": "code",
   "execution_count": null,
   "id": "48f80b5a-c729-4aed-a69d-f90aea415ed8",
   "metadata": {},
   "outputs": [],
   "source": [
    "# Step 1. Run this in Anaconda Command Shell before first-time use: conda install glpk\n",
    "# Step 2. Run this in Jupyter before first-time use: !pip install pyomo"
   ]
  },
  {
   "cell_type": "markdown",
   "id": "d5a97303-b6c6-4326-9be7-f0b92cda897f",
   "metadata": {},
   "source": [
    "#### Import libraries"
   ]
  },
  {
   "cell_type": "code",
   "execution_count": 1,
   "id": "69a83261-be0f-4a7e-9e4a-6b94af024348",
   "metadata": {},
   "outputs": [],
   "source": [
    "import yfinance as yf\n",
    "import pyomo.environ as pyo\n",
    "from pyomo.opt import SolverFactory"
   ]
  },
  {
   "cell_type": "markdown",
   "id": "90b29578-6b82-4466-85ae-9352096b7479",
   "metadata": {},
   "source": [
    "#### Import stock data"
   ]
  },
  {
   "cell_type": "code",
   "execution_count": 2,
   "id": "46afcc23-50e5-4a9c-9617-ad50241945c6",
   "metadata": {},
   "outputs": [],
   "source": [
    "# Stock tickers\n",
    "tickers = [\"UUP\", \"FXE\", \"FXY\", \"FXB\"]"
   ]
  },
  {
   "cell_type": "code",
   "execution_count": 3,
   "id": "244faea9-5ced-43ab-b454-3b20a76bc86a",
   "metadata": {},
   "outputs": [
    {
     "name": "stdout",
     "output_type": "stream",
     "text": [
      "YF.download() has changed argument auto_adjust default to True\n"
     ]
    },
    {
     "name": "stderr",
     "output_type": "stream",
     "text": [
      "[*********************100%***********************]  1 of 1 completed\n",
      "[*********************100%***********************]  1 of 1 completed\n",
      "[*********************100%***********************]  1 of 1 completed\n",
      "[*********************100%***********************]  1 of 1 completed\n"
     ]
    },
    {
     "data": {
      "text/plain": [
       "[28, 100, 62, 123]"
      ]
     },
     "execution_count": 3,
     "metadata": {},
     "output_type": "execute_result"
    }
   ],
   "source": [
    "# Retrieve most recent closing stock prices\n",
    "all_close_prices = []\n",
    "\n",
    "for t in tickers:\n",
    "    close_price = yf.download(t, period=\"1d\")[\"Close\"].iloc[0,0].astype(int)\n",
    "    all_close_prices.append(close_price)\n",
    "\n",
    "all_close_prices"
   ]
  },
  {
   "cell_type": "code",
   "execution_count": 4,
   "id": "e7818e87-4734-4df2-82d1-9c4cb33b721e",
   "metadata": {},
   "outputs": [
    {
     "data": {
      "text/plain": [
       "{'UUP': 28, 'FXE': 100, 'FXY': 62, 'FXB': 123}"
      ]
     },
     "execution_count": 4,
     "metadata": {},
     "output_type": "execute_result"
    }
   ],
   "source": [
    "close_price_with_symbol = dict(zip(tickers, all_close_prices))\n",
    "close_price_with_symbol"
   ]
  },
  {
   "cell_type": "markdown",
   "id": "1784efce-2739-4114-93dd-e48eca3fea8b",
   "metadata": {},
   "source": [
    "#### Model"
   ]
  },
  {
   "cell_type": "code",
   "execution_count": 5,
   "id": "1e02378c-a80d-45bd-89f5-1bd90f9ab413",
   "metadata": {},
   "outputs": [],
   "source": [
    "model = pyo.ConcreteModel()"
   ]
  },
  {
   "cell_type": "markdown",
   "id": "b2949357-5077-4dfa-a74e-971ff661a32c",
   "metadata": {},
   "source": [
    "#### Sets"
   ]
  },
  {
   "cell_type": "code",
   "execution_count": 6,
   "id": "795a6fee-8b01-4d33-93c2-1b77289857f6",
   "metadata": {},
   "outputs": [],
   "source": [
    "model.i = pyo.Set(initialize=tickers)"
   ]
  },
  {
   "cell_type": "markdown",
   "id": "65f04605-1589-4eb1-8933-8a2683f536b0",
   "metadata": {},
   "source": [
    "#### Parameters"
   ]
  },
  {
   "cell_type": "code",
   "execution_count": 7,
   "id": "59a093f2-a404-4bdc-bca9-1d560ee107f3",
   "metadata": {},
   "outputs": [],
   "source": [
    "model.C = pyo.Param(model.i, initialize=close_price_with_symbol)\n",
    "C = model.C"
   ]
  },
  {
   "cell_type": "markdown",
   "id": "022318f6-84e7-4d4d-b239-ab16a70e23a4",
   "metadata": {},
   "source": [
    "#### Decision Variables"
   ]
  },
  {
   "cell_type": "code",
   "execution_count": 8,
   "id": "8a12b3e7-aaad-471e-b5a2-fb8394880860",
   "metadata": {},
   "outputs": [],
   "source": [
    "model.x = pyo.Var(model.i, within=pyo.NonNegativeIntegers)\n",
    "x = model.x"
   ]
  },
  {
   "cell_type": "markdown",
   "id": "89aeaa00-0627-4d15-b629-2dad7b5d1167",
   "metadata": {},
   "source": [
    "#### Formula for Objective Function"
   ]
  },
  {
   "cell_type": "code",
   "execution_count": 9,
   "id": "ccdcf4d1-f069-436e-a6f2-acb745366f1c",
   "metadata": {},
   "outputs": [],
   "source": [
    "obj_formula = sum(C[i]*x[i] for i in model.i)"
   ]
  },
  {
   "cell_type": "markdown",
   "id": "76660086-df77-4c9f-b2fc-291289bc2436",
   "metadata": {},
   "source": [
    "#### Objective Function"
   ]
  },
  {
   "cell_type": "code",
   "execution_count": 10,
   "id": "0d99fbd4-370d-4f11-a351-9690741c7a81",
   "metadata": {},
   "outputs": [],
   "source": [
    "def Objective_rule(model,i):\n",
    "    return obj_formula\n",
    "model.Objf = pyo.Objective(rule=Objective_rule, sense=pyo.maximize)"
   ]
  },
  {
   "cell_type": "markdown",
   "id": "655d6f5f-9aeb-42f6-a9d0-6af1b12750b6",
   "metadata": {},
   "source": [
    "#### Constraints"
   ]
  },
  {
   "cell_type": "code",
   "execution_count": 11,
   "id": "6f3ff8b6-1009-4a13-9dcb-6c44d6a65453",
   "metadata": {},
   "outputs": [],
   "source": [
    "def Constraint1(model):\n",
    "    return x[\"UUP\"] + x[\"FXE\"] + x[\"FXY\"] + x[\"FXB\"] >= 4\n",
    "model.Const1 = pyo.Constraint(rule=Constraint1)\n",
    "\n",
    "def Constraint2(model):\n",
    "    return x[\"FXE\"] + x[\"FXB\"] == 1\n",
    "model.Const2 = pyo.Constraint(rule=Constraint2)\n",
    "\n",
    "def Constraint3(model):\n",
    "    return x[\"UUP\"] == 3\n",
    "model.Const3 = pyo.Constraint(rule=Constraint3)\n",
    "\n",
    "def Constraint4(model):\n",
    "    return obj_formula <= 275\n",
    "model.Const4 = pyo.Constraint(rule=Constraint4)"
   ]
  },
  {
   "cell_type": "markdown",
   "id": "7b1000e1-4028-4f62-8eed-d4ad6bb95133",
   "metadata": {},
   "source": [
    "#### Solve"
   ]
  },
  {
   "cell_type": "code",
   "execution_count": 12,
   "id": "ca437f98-44f5-4a9d-8fa6-f90969bdfcc3",
   "metadata": {},
   "outputs": [],
   "source": [
    "Solver = SolverFactory(\"glpk\")\n",
    "results = Solver.solve(model)"
   ]
  },
  {
   "cell_type": "markdown",
   "id": "c68314ca-b7d7-4c00-b2c8-e56dac2a0b1a",
   "metadata": {},
   "source": [
    "#### Results"
   ]
  },
  {
   "cell_type": "code",
   "execution_count": 13,
   "id": "7959c4fb-05a7-48ee-8e0d-79093743d6f0",
   "metadata": {},
   "outputs": [
    {
     "name": "stdout",
     "output_type": "stream",
     "text": [
      "\n",
      "Problem: \n",
      "- Name: unknown\n",
      "  Lower bound: 269.0\n",
      "  Upper bound: 269.0\n",
      "  Number of objectives: 1\n",
      "  Number of constraints: 4\n",
      "  Number of variables: 4\n",
      "  Number of nonzeros: 11\n",
      "  Sense: maximize\n",
      "Solver: \n",
      "- Status: ok\n",
      "  Termination condition: optimal\n",
      "  Statistics: \n",
      "    Branch and bound: \n",
      "      Number of bounded subproblems: 1\n",
      "      Number of created subproblems: 1\n",
      "  Error rc: 0\n",
      "  Time: 0.04726290702819824\n",
      "Solution: \n",
      "- number of solutions: 0\n",
      "  number of solutions displayed: 0\n",
      "\n",
      "Objective Function = 269.0\n",
      "Number of UUP to purchase = 3.0\n",
      "Number of FXE to purchase = 0.0\n",
      "Number of FXY to purchase = 1.0\n",
      "Number of FXB to purchase = 1.0\n"
     ]
    }
   ],
   "source": [
    "print(results)\n",
    "print(\"Objective Function =\", model.Objf())\n",
    "for i in model.i:\n",
    "    print(\"Number of\", i, \"to purchase =\", x[i]())"
   ]
  },
  {
   "cell_type": "code",
   "execution_count": null,
   "id": "f0b74212-1817-43c4-8455-97df57f44838",
   "metadata": {},
   "outputs": [],
   "source": []
  }
 ],
 "metadata": {
  "kernelspec": {
   "display_name": "Python 3 (ipykernel)",
   "language": "python",
   "name": "python3"
  },
  "language_info": {
   "codemirror_mode": {
    "name": "ipython",
    "version": 3
   },
   "file_extension": ".py",
   "mimetype": "text/x-python",
   "name": "python",
   "nbconvert_exporter": "python",
   "pygments_lexer": "ipython3",
   "version": "3.12.7"
  }
 },
 "nbformat": 4,
 "nbformat_minor": 5
}
